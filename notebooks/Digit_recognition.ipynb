{
  "cells": [
    {
      "cell_type": "code",
      "execution_count": 2,
      "metadata": {
        "id": "TcU-eUJOp2zy"
      },
      "outputs": [],
      "source": [
        "import numpy as np\n",
        "from tqdm import tqdm\n",
        "import torch\n",
        "import torch.autograd as autograd\n",
        "import torch.nn.functional as F\n",
        "import torch.nn as nn"
      ]
    },
    {
      "cell_type": "code",
      "execution_count": 3,
      "metadata": {
        "colab": {
          "base_uri": "https://localhost:8080/"
        },
        "id": "A6S2Umpmrpyb",
        "outputId": "750700aa-0807-48cd-d9de-c2a7da44927d"
      },
      "outputs": [
        {
          "name": "stdout",
          "output_type": "stream",
          "text": [
            "Downloading data from https://storage.googleapis.com/tensorflow/tf-keras-datasets/mnist.npz\n",
            "11490434/11490434 [==============================] - 0s 0us/step\n"
          ]
        }
      ],
      "source": [
        "from keras.datasets import mnist\n",
        "(x_train, y_train), (x_test, y_test) = mnist.load_data()"
      ]
    },
    {
      "cell_type": "code",
      "execution_count": 4,
      "metadata": {
        "colab": {
          "base_uri": "https://localhost:8080/",
          "height": 271
        },
        "id": "1D-EVuJAsSwW",
        "outputId": "0870706e-00b5-48cf-c005-398963b09f84"
      },
      "outputs": [
        {
          "name": "stdout",
          "output_type": "stream",
          "text": [
            "(60000, 28, 28)\n",
            "(10000, 28, 28)\n"
          ]
        },
        {
          "data": {
            "text/plain": [
              "<matplotlib.image.AxesImage at 0x7efe952113c0>"
            ]
          },
          "execution_count": 4,
          "metadata": {},
          "output_type": "execute_result"
        },
        {
          "data": {
            "image/png": "[encoded data removed]",
            "text/plain": [
              "<Figure size 200x200 with 1 Axes>"
            ]
          },
          "metadata": {},
          "output_type": "display_data"
        }
      ],
      "source": [
        "import matplotlib.pyplot as plt\n",
        "%matplotlib inline\n",
        "print(x_train.shape)\n",
        "print(x_test.shape)\n",
        "plt.figure(figsize = (2,2))\n",
        "plt.imshow(x_train[0], cmap=\"gray\")"
      ]
    },
    {
      "cell_type": "code",
      "execution_count": 5,
      "metadata": {
        "id": "bAmOzaUXxOzX"
      },
      "outputs": [],
      "source": [
        "#shuffle the dataset\n",
        "indices = np.arange(x_train.shape[0])\n",
        "np.random.shuffle(indices)\n",
        "x_train = x_train[indices]\n",
        "y_train = y_train[indices]"
      ]
    },
    {
      "cell_type": "code",
      "execution_count": 6,
      "metadata": {
        "colab": {
          "base_uri": "https://localhost:8080/"
        },
        "id": "PjkukxCno9O4",
        "outputId": "b56e90d9-9e40-4db8-bd6c-1cc231c79e6a"
      },
      "outputs": [
        {
          "data": {
            "text/plain": [
              "((60000, 1, 28, 28), (10000, 1, 28, 28))"
            ]
          },
          "execution_count": 6,
          "metadata": {},
          "output_type": "execute_result"
        }
      ],
      "source": [
        "# add 1 dimension for each channels(=1) in the image\n",
        "x_train = x_train.reshape(x_train.shape[0],1, 28, 28)\n",
        "x_test = x_test.reshape(x_test.shape[0], 1, 28, 28)\n",
        "x_train.shape, x_test.shape"
      ]
    },
    {
      "cell_type": "code",
      "execution_count": 7,
      "metadata": {
        "id": "yHv7G-D80GL6"
      },
      "outputs": [],
      "source": [
        "def batchify_data(x_data, y_data, batch_size):\n",
        "    \"\"\"Takes a set of data points and labels and groups them into batches.\"\"\"\n",
        "    # Only take batch_size chunks (i.e. drop the remainder)\n",
        "    N = int(len(x_data) / batch_size) * batch_size\n",
        "    batches = []\n",
        "    for i in range(0, N, batch_size):\n",
        "        batches.append({\n",
        "            'x': torch.tensor(x_data[i:i+batch_size], dtype = torch.float32),\n",
        "            'y': torch.tensor(y_data[i:i+batch_size], dtype = torch.long)})\n",
        "    return batches\n",
        "\n",
        "def compute_accuracy(predictions, y):\n",
        "    \"\"\"Computes the accuracy of predictions against the gold labels, y.\"\"\"\n",
        "    return np.mean(np.equal(predictions.numpy(), y.numpy()))"
      ]
    },
    {
      "cell_type": "code",
      "execution_count": 8,
      "metadata": {
        "id": "op5khfKrzWSz"
      },
      "outputs": [],
      "source": [
        "def run_epoch(data, model, optimizer):\n",
        "    \"\"\"Train model for one pass of train data, and return loss, acccuracy\"\"\"\n",
        "    # Gather losses\n",
        "    losses = []\n",
        "    batch_accuracies = []\n",
        "\n",
        "    # If model is in train mode, use optimizer.\n",
        "    is_training = model.training\n",
        "\n",
        "    # Iterate through batches\n",
        "    for batch in tqdm(data):\n",
        "        # Grab x and y\n",
        "        x, y = batch['x'], batch['y']\n",
        "\n",
        "        # Get output predictions\n",
        "        out = model(x)\n",
        "\n",
        "        # Predict and store accuracy\n",
        "        predictions = torch.argmax(out, dim=1)\n",
        "        batch_accuracies.append(compute_accuracy(predictions, y))\n",
        "\n",
        "        # Compute loss\n",
        "        loss = F.cross_entropy(out, y)\n",
        "        losses.append(loss.data.item())\n",
        "\n",
        "        # If training, do an update.\n",
        "        if is_training:\n",
        "            optimizer.zero_grad()\n",
        "            loss.backward()\n",
        "            optimizer.step()\n",
        "\n",
        "    # Calculate epoch level scores\n",
        "    avg_loss = np.mean(losses)\n",
        "    avg_accuracy = np.mean(batch_accuracies)\n",
        "    return avg_loss, avg_accuracy"
      ]
    },
    {
      "cell_type": "code",
      "execution_count": 20,
      "metadata": {
        "id": "o9T7S9Ga0NR-"
      },
      "outputs": [],
      "source": [
        "def train_model(train_data, dev_data, model, lr=0.1, momentum=0.1, nesterov=False, n_epochs=30):\n",
        "    \"\"\"Train a model for N epochs given data and hyper-params.\"\"\"\n",
        "    # We optimize with SGD\n",
        "    optimizer = torch.optim.SGD(model.parameters(), lr=lr, momentum=momentum, nesterov=nesterov)\n",
        "    epochs_i = []\n",
        "    losses_i = []\n",
        "    val_losses_i = []\n",
        "    val_accs_i = []\n",
        "\n",
        "    for epoch in range(1, n_epochs):\n",
        "        print(\"-------------\\nEpoch {}:\\n\".format(epoch))\n",
        "\n",
        "        # Run **training***\n",
        "        loss, acc = run_epoch(train_data, model.train(), optimizer)\n",
        "        print('Train loss: {:.6f} | Train accuracy: {:.6f}'.format(loss, acc))\n",
        "        losses_i.append(loss)\n",
        "        epochs_i.append(epoch)\n",
        "        # Run **validation**\n",
        "        val_loss, val_acc = run_epoch(dev_data, model.eval(), optimizer)\n",
        "        val_losses_i.append(val_loss)\n",
        "        val_accs_i.append(val_acc)\n",
        "        print('Val loss:   {:.6f} | Val accuracy:   {:.6f}'.format(val_loss, val_acc))\n",
        "        # Save model\n",
        "        torch.save(model, 'mnist_model_fully_connected.pt')\n",
        "    return losses_i, val_losses_i, val_accs_i, epochs_i"
      ]
    },
    {
      "cell_type": "code",
      "execution_count": 10,
      "metadata": {
        "id": "8uf3Y8V20eOJ"
      },
      "outputs": [],
      "source": [
        "# create batches for SGD\n",
        "batch_size = 32\n",
        "train_batches = batchify_data(x_train, y_train, batch_size)\n",
        "test_batches = batchify_data(x_test, y_test, batch_size)"
      ]
    },
    {
      "cell_type": "code",
      "execution_count": 11,
      "metadata": {
        "colab": {
          "base_uri": "https://localhost:8080/"
        },
        "id": "_FSPHu5bENT_",
        "outputId": "8867911f-7812-4e75-969a-9d812647afd2"
      },
      "outputs": [
        {
          "data": {
            "text/plain": [
              "(1875, torch.Size([32, 1, 28, 28]))"
            ]
          },
          "execution_count": 11,
          "metadata": {},
          "output_type": "execute_result"
        }
      ],
      "source": [
        "len(train_batches), train_batches[0]['x'].shape"
      ]
    },
    {
      "cell_type": "code",
      "execution_count": 31,
      "metadata": {
        "id": "jF6rSygP1KO6"
      },
      "outputs": [],
      "source": [
        "#################################\n",
        "## Model specification TODO\n",
        "model = nn.Sequential(\n",
        "          nn.Conv2d(1, 32, (3, 3)),\n",
        "          nn.ReLU(),\n",
        "          nn.MaxPool2d((2, 2)),\n",
        "          nn.Conv2d(32, 64, (3,3)),\n",
        "          nn.ReLU(),\n",
        "          nn.MaxPool2d((2,2)),\n",
        "          nn.Flatten(),\n",
        "          nn.Linear(1600, 128),\n",
        "          nn.Dropout(),\n",
        "          nn.Linear(128,10)\n",
        "        )\n",
        "##################################"
      ]
    },
    {
      "cell_type": "code",
      "execution_count": 32,
      "metadata": {
        "colab": {
          "base_uri": "https://localhost:8080/"
        },
        "id": "-p_-Rzkq79Wc",
        "outputId": "2a1735b9-d863-4c43-c6d7-8cbca02a8dfc"
      },
      "outputs": [
        {
          "name": "stdout",
          "output_type": "stream",
          "text": [
            "-------------\n",
            "Epoch 1:\n",
            "\n"
          ]
        },
        {
          "name": "stderr",
          "output_type": "stream",
          "text": [
            "100%|██████████| 1875/1875 [00:56<00:00, 33.34it/s]\n"
          ]
        },
        {
          "name": "stdout",
          "output_type": "stream",
          "text": [
            "Train loss: 0.340167 | Train accuracy: 0.917400\n"
          ]
        },
        {
          "name": "stderr",
          "output_type": "stream",
          "text": [
            "100%|██████████| 312/312 [00:03<00:00, 99.44it/s] \n"
          ]
        },
        {
          "name": "stdout",
          "output_type": "stream",
          "text": [
            "Val loss:   0.079964 | Val accuracy:   0.972756\n",
            "-------------\n",
            "Epoch 2:\n",
            "\n"
          ]
        },
        {
          "name": "stderr",
          "output_type": "stream",
          "text": [
            "100%|██████████| 1875/1875 [00:54<00:00, 34.23it/s]\n"
          ]
        },
        {
          "name": "stdout",
          "output_type": "stream",
          "text": [
            "Train loss: 0.115279 | Train accuracy: 0.964933\n"
          ]
        },
        {
          "name": "stderr",
          "output_type": "stream",
          "text": [
            "100%|██████████| 312/312 [00:04<00:00, 72.24it/s]\n"
          ]
        },
        {
          "name": "stdout",
          "output_type": "stream",
          "text": [
            "Val loss:   0.064289 | Val accuracy:   0.978566\n",
            "-------------\n",
            "Epoch 3:\n",
            "\n"
          ]
        },
        {
          "name": "stderr",
          "output_type": "stream",
          "text": [
            "100%|██████████| 1875/1875 [00:54<00:00, 34.19it/s]\n"
          ]
        },
        {
          "name": "stdout",
          "output_type": "stream",
          "text": [
            "Train loss: 0.088351 | Train accuracy: 0.972800\n"
          ]
        },
        {
          "name": "stderr",
          "output_type": "stream",
          "text": [
            "100%|██████████| 312/312 [00:03<00:00, 96.75it/s]\n"
          ]
        },
        {
          "name": "stdout",
          "output_type": "stream",
          "text": [
            "Val loss:   0.052286 | Val accuracy:   0.982171\n",
            "-------------\n",
            "Epoch 4:\n",
            "\n"
          ]
        },
        {
          "name": "stderr",
          "output_type": "stream",
          "text": [
            "100%|██████████| 1875/1875 [00:52<00:00, 35.70it/s]\n"
          ]
        },
        {
          "name": "stdout",
          "output_type": "stream",
          "text": [
            "Train loss: 0.073908 | Train accuracy: 0.977150\n"
          ]
        },
        {
          "name": "stderr",
          "output_type": "stream",
          "text": [
            "100%|██████████| 312/312 [00:04<00:00, 75.48it/s]\n"
          ]
        },
        {
          "name": "stdout",
          "output_type": "stream",
          "text": [
            "Val loss:   0.047322 | Val accuracy:   0.984876\n",
            "-------------\n",
            "Epoch 5:\n",
            "\n"
          ]
        },
        {
          "name": "stderr",
          "output_type": "stream",
          "text": [
            "100%|██████████| 1875/1875 [00:52<00:00, 35.63it/s]\n"
          ]
        },
        {
          "name": "stdout",
          "output_type": "stream",
          "text": [
            "Train loss: 0.067209 | Train accuracy: 0.978717\n"
          ]
        },
        {
          "name": "stderr",
          "output_type": "stream",
          "text": [
            "100%|██████████| 312/312 [00:03<00:00, 98.45it/s] \n"
          ]
        },
        {
          "name": "stdout",
          "output_type": "stream",
          "text": [
            "Val loss:   0.042624 | Val accuracy:   0.985877\n",
            "-------------\n",
            "Epoch 6:\n",
            "\n"
          ]
        },
        {
          "name": "stderr",
          "output_type": "stream",
          "text": [
            "100%|██████████| 1875/1875 [00:52<00:00, 36.01it/s]\n"
          ]
        },
        {
          "name": "stdout",
          "output_type": "stream",
          "text": [
            "Train loss: 0.058681 | Train accuracy: 0.982133\n"
          ]
        },
        {
          "name": "stderr",
          "output_type": "stream",
          "text": [
            "100%|██████████| 312/312 [00:03<00:00, 99.62it/s] \n"
          ]
        },
        {
          "name": "stdout",
          "output_type": "stream",
          "text": [
            "Val loss:   0.042477 | Val accuracy:   0.986178\n",
            "-------------\n",
            "Epoch 7:\n",
            "\n"
          ]
        },
        {
          "name": "stderr",
          "output_type": "stream",
          "text": [
            "100%|██████████| 1875/1875 [00:51<00:00, 36.20it/s]\n"
          ]
        },
        {
          "name": "stdout",
          "output_type": "stream",
          "text": [
            "Train loss: 0.053640 | Train accuracy: 0.983400\n"
          ]
        },
        {
          "name": "stderr",
          "output_type": "stream",
          "text": [
            "100%|██████████| 312/312 [00:03<00:00, 90.44it/s]\n"
          ]
        },
        {
          "name": "stdout",
          "output_type": "stream",
          "text": [
            "Val loss:   0.041407 | Val accuracy:   0.985377\n",
            "-------------\n",
            "Epoch 8:\n",
            "\n"
          ]
        },
        {
          "name": "stderr",
          "output_type": "stream",
          "text": [
            "100%|██████████| 1875/1875 [00:52<00:00, 35.88it/s]\n"
          ]
        },
        {
          "name": "stdout",
          "output_type": "stream",
          "text": [
            "Train loss: 0.050208 | Train accuracy: 0.984067\n"
          ]
        },
        {
          "name": "stderr",
          "output_type": "stream",
          "text": [
            "100%|██████████| 312/312 [00:03<00:00, 81.93it/s] \n"
          ]
        },
        {
          "name": "stdout",
          "output_type": "stream",
          "text": [
            "Val loss:   0.038246 | Val accuracy:   0.987881\n",
            "-------------\n",
            "Epoch 9:\n",
            "\n"
          ]
        },
        {
          "name": "stderr",
          "output_type": "stream",
          "text": [
            "100%|██████████| 1875/1875 [00:51<00:00, 36.14it/s]\n"
          ]
        },
        {
          "name": "stdout",
          "output_type": "stream",
          "text": [
            "Train loss: 0.045828 | Train accuracy: 0.985483\n"
          ]
        },
        {
          "name": "stderr",
          "output_type": "stream",
          "text": [
            "100%|██████████| 312/312 [00:03<00:00, 98.34it/s]\n"
          ]
        },
        {
          "name": "stdout",
          "output_type": "stream",
          "text": [
            "Val loss:   0.035970 | Val accuracy:   0.988281\n"
          ]
        },
        {
          "name": "stderr",
          "output_type": "stream",
          "text": [
            "100%|██████████| 312/312 [00:03<00:00, 97.87it/s]"
          ]
        },
        {
          "name": "stdout",
          "output_type": "stream",
          "text": [
            "Loss on test set:0.035970019169868604 Accuracy on test set: 0.98828125\n"
          ]
        },
        {
          "name": "stderr",
          "output_type": "stream",
          "text": [
            "\n"
          ]
        }
      ],
      "source": [
        "# train the model\n",
        "losses_i, val_losses_i, val_accs, epochs_i = train_model(train_batches, test_batches, model, lr=0.001, nesterov=True, n_epochs = 10)\n",
        "\n",
        "# # Evaluate the model on test data\n",
        "loss, accuracy = run_epoch(test_batches, model.eval(), None)\n",
        "\n",
        "print (\"Loss on test set:\"  + str(loss) + \" Accuracy on test set: \" + str(accuracy))"
      ]
    },
    {
      "cell_type": "code",
      "execution_count": 24,
      "metadata": {
        "colab": {
          "base_uri": "https://localhost:8080/",
          "height": 472
        },
        "id": "acvMadJa5NrZ",
        "outputId": "89e5cb6c-ab15-4f50-e296-865c8b4c778d"
      },
      "outputs": [
        {
          "data": {
            "image/png": "[encoded data removed]",
            "text/plain": [
              "<Figure size 640x480 with 1 Axes>"
            ]
          },
          "metadata": {},
          "output_type": "display_data"
        }
      ],
      "source": [
        "plt.figure()\n",
        "plt.title(\"Loss\")\n",
        "plt.xlabel(\"Epochs\")\n",
        "plt.ylabel(\"Loss\")\n",
        "plt.plot(epochs_i, losses_i, label = \"Train loss\")\n",
        "plt.plot(epochs_i, val_losses_i, label = \"Val loss\")\n",
        "plt.legend()\n",
        "plt.show()"
      ]
    },
    {
      "cell_type": "code",
      "execution_count": 33,
      "metadata": {
        "colab": {
          "base_uri": "https://localhost:8080/",
          "height": 472
        },
        "id": "BnfoZpgn8fY6",
        "outputId": "c0251721-c8da-44eb-e17f-42e42a90cf35"
      },
      "outputs": [
        {
          "data": {
            "image/png": "[encoded data removed]",
            "text/plain": [
              "<Figure size 640x480 with 1 Axes>"
            ]
          },
          "metadata": {},
          "output_type": "display_data"
        }
      ],
      "source": [
        "plt.figure()\n",
        "plt.title(\"Accuracy\")\n",
        "plt.xlabel(\"Epochs\")\n",
        "plt.ylabel(\"Accuracy\")\n",
        "plt.plot(epochs_i, val_accs)\n",
        "plt.show()"
      ]
    },
    {
      "cell_type": "code",
      "execution_count": 66,
      "metadata": {
        "id": "xEaRdssV4QZ7"
      },
      "outputs": [],
      "source": [
        "stepi = []\n",
        "lossi = []"
      ]
    },
    {
      "cell_type": "code",
      "execution_count": 67,
      "metadata": {
        "id": "iuUCPo-g3fNf"
      },
      "outputs": [],
      "source": [
        "import random\n",
        "lr = 0.001\n",
        "momentum = 0.1\n",
        "optimizer = torch.optim.SGD(model.parameters(), lr=lr, momentum=momentum, nesterov=True)\n",
        "\n",
        "for i in range(1000):\n",
        "  # minibatch construct\n",
        "  # forward pass\n",
        "  ix = random.randint(0,len(train_batches))\n",
        "  out = model(train_batches[ix]['x'])\n",
        "  loss = F.cross_entropy(out, train_batches[ix]['y'])\n",
        "  \n",
        "  #update\n",
        "  optimizer.zero_grad()\n",
        "  loss.backward()\n",
        "  optimizer.step()\n",
        "  # scheduler.step()\n",
        "\n",
        "  stepi.append(i)\n",
        "  lossi.append(loss.log10().data.item())"
      ]
    },
    {
      "cell_type": "code",
      "execution_count": 81,
      "metadata": {
        "colab": {
          "base_uri": "https://localhost:8080/",
          "height": 490
        },
        "id": "PG_keQ-e4WSn",
        "outputId": "115dc233-bd06-4ce0-986f-3862f2d625fc"
      },
      "outputs": [
        {
          "data": {
            "text/plain": [
              "[<matplotlib.lines.Line2D at 0x7f1bedfeb910>]"
            ]
          },
          "execution_count": 81,
          "metadata": {},
          "output_type": "execute_result"
        },
        {
          "data": {
            "image/png": "[encoded data removed]",
            "text/plain": [
              "<Figure size 640x480 with 1 Axes>"
            ]
          },
          "metadata": {},
          "output_type": "display_data"
        }
      ],
      "source": [
        "plt.title(\"Cross entropy loss\")\n",
        "plt.ylabel(\"loss\")\n",
        "plt.xlabel(\"batches\")\n",
        "plt.plot(stepi, lossi)"
      ]
    },
    {
      "cell_type": "code",
      "execution_count": 25,
      "metadata": {
        "colab": {
          "base_uri": "https://localhost:8080/"
        },
        "id": "EMIpuJGGOCKh",
        "outputId": "b9382a0c-6088-4f69-9ea3-cd1b35a6ec29"
      },
      "outputs": [
        {
          "name": "stderr",
          "output_type": "stream",
          "text": [
            "<ipython-input-25-5e4fdaec4cb8>:2: UserWarning: Creating a tensor from a list of numpy.ndarrays is extremely slow. Please consider converting the list to a single numpy.ndarray with numpy.array() before converting to a tensor. (Triggered internally at ../torch/csrc/utils/tensor_new.cpp:245.)\n",
            "  out = model(torch.tensor([x_test[0]], dtype = torch.float))\n"
          ]
        },
        {
          "data": {
            "text/plain": [
              "tensor([7])"
            ]
          },
          "execution_count": 25,
          "metadata": {},
          "output_type": "execute_result"
        }
      ],
      "source": [
        "# predict using the model\n",
        "out = model(torch.tensor([x_test[0]], dtype = torch.float))\n",
        "predictions = torch.argmax(out, dim=1)\n",
        "predictions"
      ]
    },
    {
      "cell_type": "code",
      "execution_count": 27,
      "metadata": {
        "colab": {
          "base_uri": "https://localhost:8080/",
          "height": 448
        },
        "id": "rBuRBEjP9D1Y",
        "outputId": "421ceae8-fa37-4af4-8b12-4153a7f625f7"
      },
      "outputs": [
        {
          "data": {
            "text/plain": [
              "<matplotlib.image.AxesImage at 0x7efe94f66350>"
            ]
          },
          "execution_count": 27,
          "metadata": {},
          "output_type": "execute_result"
        },
        {
          "data": {
            "image/png": "[encoded data removed]",
            "text/plain": [
              "<Figure size 640x480 with 1 Axes>"
            ]
          },
          "metadata": {},
          "output_type": "display_data"
        }
      ],
      "source": [
        "plt.imshow(x_test[0][0], cmap=\"gray\")"
      ]
    }
  ],
  "metadata": {
    "colab": {
      "provenance": []
    },
    "kernelspec": {
      "display_name": "Python 3",
      "name": "python3"
    },
    "language_info": {
      "name": "python"
    }
  },
  "nbformat": 4,
  "nbformat_minor": 0
}
